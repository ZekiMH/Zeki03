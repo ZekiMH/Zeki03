{
 "cells": [
  {
   "cell_type": "code",
   "execution_count": 4,
   "id": "ccc80122-935a-4db5-b80b-db3d549e4480",
   "metadata": {},
   "outputs": [],
   "source": [
    "# Data Science Tools and Ecosystem"
   ]
  },
  {
   "cell_type": "markdown",
   "id": "a098aaad-5fd1-4637-977f-543ee1889be0",
   "metadata": {},
   "source": [
    "In this notebook, Data Science Tools and Ecosystem are summarized."
   ]
  },
  {
   "cell_type": "markdown",
   "id": "41e7e12e-e998-4387-b50b-625bea653ef3",
   "metadata": {},
   "source": [
    "**Objectives:**\n",
    "- List popular languages for Data Science\n",
    "- List popular libraries for Data Science\n",
    "- Creating markdown cells with tables in data science tools\n",
    "- Creating markdown cells to introduce arithmetic expressions\n",
    "  "
   ]
  },
  {
   "cell_type": "markdown",
   "id": "b4938e0e-109f-43cb-aad6-6c3a667f2e7a",
   "metadata": {},
   "source": [
    "Some of the popular languages that Data Scientists use are:\n",
    "1. Python\n",
    "2. R\n",
    "3. SQL\n",
    "4. Scala\n",
    "5. Julia"
   ]
  },
  {
   "cell_type": "markdown",
   "id": "6cae6a7c-ce94-4b92-b16c-6b9628ace6ae",
   "metadata": {},
   "source": [
    "Some of the commonly used libraries used by Data Scientists include:\n",
    "1. Pandas\n",
    "2. NumPy\n",
    "3. The Matplotlib package\n",
    "4. Seaborn"
   ]
  },
  {
   "cell_type": "markdown",
   "id": "4b11fde0-3328-4eb7-8760-e8ff20dcb002",
   "metadata": {},
   "source": [
    "|Data Science Tools|\n",
    "|-----------------|\n",
    "Pandas\n",
    "Seaborn\n",
    "Scikit-learn"
   ]
  },
  {
   "cell_type": "markdown",
   "id": "bfed75ec-9528-4fed-9a1b-3a809f395168",
   "metadata": {},
   "source": [
    "### Below are a few examples of evaluating arithmetic expressions in Python\n",
    "- 2+3\n",
    "- 5*8\n",
    "- 6-2\n",
    "- 10/5"
   ]
  },
  {
   "cell_type": "markdown",
   "id": "03b03790-24cf-4d04-85fb-d6e26bac390a",
   "metadata": {},
   "source": [
    "This a simple arithmetic expression to mutiply then add integers"
   ]
  },
  {
   "cell_type": "code",
   "execution_count": 5,
   "id": "863ac919-594b-46d2-b563-8eb5ec90bd11",
   "metadata": {},
   "outputs": [
    {
     "data": {
      "text/plain": [
       "17"
      ]
     },
     "execution_count": 5,
     "metadata": {},
     "output_type": "execute_result"
    }
   ],
   "source": [
    "(3*4)+5"
   ]
  },
  {
   "cell_type": "markdown",
   "id": "7a249e9d-d6af-494c-8de5-8a4b607a3ead",
   "metadata": {},
   "source": [
    "This will convert 200 minutes to hours by diving by 60"
   ]
  },
  {
   "cell_type": "code",
   "execution_count": 6,
   "id": "bfd15b65-d967-4177-8fcb-96acb080908a",
   "metadata": {},
   "outputs": [
    {
     "data": {
      "text/plain": [
       "3.3333333333333335"
      ]
     },
     "execution_count": 6,
     "metadata": {},
     "output_type": "execute_result"
    }
   ],
   "source": [
    "200/60"
   ]
  },
  {
   "cell_type": "markdown",
   "id": "9b29e888-7ffe-42e7-835d-0c9848c75979",
   "metadata": {},
   "source": [
    "## Author\n",
    "Zemicael M"
   ]
  },
  {
   "cell_type": "code",
   "execution_count": null,
   "id": "215655f4-ff93-4a01-a67b-a5b98aabb3bb",
   "metadata": {},
   "outputs": [],
   "source": []
  }
 ],
 "metadata": {
  "kernelspec": {
   "display_name": "Python 3 (ipykernel)",
   "language": "python",
   "name": "python3"
  },
  "language_info": {
   "codemirror_mode": {
    "name": "ipython",
    "version": 3
   },
   "file_extension": ".py",
   "mimetype": "text/x-python",
   "name": "python",
   "nbconvert_exporter": "python",
   "pygments_lexer": "ipython3",
   "version": "3.11.8"
  }
 },
 "nbformat": 4,
 "nbformat_minor": 5
}
